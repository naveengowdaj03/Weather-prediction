{
  "cells": [
    {
      "cell_type": "code",
      "execution_count": 1,
      "id": "268c7c74",
      "metadata": {
        "id": "268c7c74"
      },
      "outputs": [],
      "source": [
        "import pandas as pd\n",
        "import numpy as np\n",
        "import tensorflow as tf\n",
        "import keras\n",
        "from keras.models import Sequential\n",
        "from keras.layers import Convolution2D, MaxPooling2D, Flatten, Dense, Dropout, GlobalAveragePooling2D\n",
        "from keras.applications.vgg16 import VGG16\n",
        "import pandas as pd\n",
        "from pathlib import Path\n",
        "import os.path\n",
        "import matplotlib.pyplot as plt\n",
        "import cv2\n",
        "from sklearn.model_selection import train_test_split"
      ]
    },
    {
      "cell_type": "code",
      "execution_count": 3,
      "id": "53dfa907",
      "metadata": {
        "id": "53dfa907"
      },
      "outputs": [],
      "source": [
        "data = pd.read_csv('Training_set.csv')\n",
        "imgPath = data['filename']\n",
        "paths = r'C:\\Users\\cw\\Downloads\\weather'+'\\\\'+ imgPath\n",
        "\n",
        "df = pd.DataFrame( columns=['Image_Path', 'Labels'])\n",
        "df['Image_Path'] = paths\n",
        "df['Labels'] = data['label']\n",
        "\n",
        "labels = np.unique(data['label'])"
      ]
    },
    {
      "cell_type": "code",
      "execution_count": 10,
      "id": "39b3ab99",
      "metadata": {
        "id": "39b3ab99"
      },
      "outputs": [],
      "source": [
        "im_size = 32\n",
        "train_image = []\n",
        "count = 0\n",
        "for path,label in zip(paths,data.label):\n",
        "        img = cv2.imread(path)\n",
        "#         %matplotlib inline\n",
        "        #train_image.append(cv2.resize(img,(im_size,im_size)))\n",
        "#         plt.imshow(img)\n",
        "#         plt.title(label)\n",
        "#         plt.show()\n",
        "   "
      ]
    },
    {
      "cell_type": "code",
      "execution_count": 7,
      "id": "698c14c4",
      "metadata": {
        "id": "698c14c4"
      },
      "outputs": [],
      "source": [
        "train_image = np.array(train_image)\n",
        "train_image = train_image/255.0"
      ]
    },
    {
      "cell_type": "code",
      "execution_count": 8,
      "id": "5cf263bc",
      "metadata": {
        "colab": {
          "base_uri": "https://localhost:8080/"
        },
        "id": "5cf263bc",
        "outputId": "b160aaf6-7715-42d4-f742-c5cc5bce5f0d"
      },
      "outputs": [
        {
          "output_type": "execute_result",
          "data": {
            "text/plain": [
              "array([[0, 0, 0, 0, 1],\n",
              "       [0, 0, 0, 1, 0],\n",
              "       [1, 0, 0, 0, 0],\n",
              "       ...,\n",
              "       [1, 0, 0, 0, 0],\n",
              "       [0, 0, 1, 0, 0],\n",
              "       [0, 0, 0, 0, 1]], dtype=uint8)"
            ]
          },
          "metadata": {},
          "execution_count": 8
        }
      ],
      "source": [
        "y = data['label'].values\n",
        "\n",
        "y = pd.get_dummies(y)\n",
        "y = np.array(y)\n",
        "y"
      ]
    },
    {
      "cell_type": "code",
      "execution_count": 9,
      "id": "89e4d8b7",
      "metadata": {
        "id": "89e4d8b7"
      },
      "outputs": [],
      "source": [
        "import tensorflow as tf\n"
      ]
    },
    {
      "cell_type": "code",
      "execution_count": 11,
      "id": "82cfc265",
      "metadata": {
        "id": "82cfc265"
      },
      "outputs": [],
      "source": [
        "from tensorflow import keras\n",
        "from tensorflow.keras import Sequential\n",
        "from tensorflow.keras import layers\n",
        "from tensorflow.keras.layers import Dense"
      ]
    },
    {
      "cell_type": "code",
      "execution_count": null,
      "id": "47270d6b",
      "metadata": {
        "id": "47270d6b"
      },
      "outputs": [],
      "source": [
        "model = tf.keras.models.Sequential([tf.keras.layers.Conv2D(32,(3,3), activation='relu', input_shape = (im_size,im_size,3)),\n",
        "                            tf.keras.layers.MaxPool2D(2,2),\n",
        "                            #\n",
        "                            tf.keras.layers.Conv2D(64,(3,3), activation='relu'),\n",
        "                            tf.keras.layers.MaxPool2D(2,2),\n",
        "                            #\n",
        "                            tf.keras.layers.Conv2D(128,(3,3), activation='relu'),\n",
        "                            tf.keras.layers.MaxPool2D(2,2),\n",
        "                            ##\n",
        "                            tf.keras.layers.Flatten(),\n",
        "                            #\n",
        "                            tf.keras.layers.Dense(512, activation='relu'),\n",
        "                            #\n",
        "                            tf.keras.layers.Dense(5,activation='softmax')\n",
        "                           \n",
        "                           ])"
      ]
    },
    {
      "cell_type": "code",
      "execution_count": null,
      "id": "1bd4fcfa",
      "metadata": {
        "id": "1bd4fcfa"
      },
      "outputs": [],
      "source": [
        "from tensorflow.keras.optimizers import RMSprop\n",
        "model.compile(loss = 'categorical_crossentropy',\n",
        "             optimizer = RMSprop(0.001),\n",
        "              metrics = ['accuracy']\n",
        "             )"
      ]
    },
    {
      "cell_type": "code",
      "execution_count": null,
      "id": "7f5824a2",
      "metadata": {
        "id": "7f5824a2"
      },
      "outputs": [],
      "source": [
        "model.fit(train_image, y,\n",
        "         epochs=30,\n",
        "         batch_size = 10\n",
        "         )"
      ]
    },
    {
      "cell_type": "code",
      "execution_count": null,
      "id": "a37335a4",
      "metadata": {
        "id": "a37335a4",
        "outputId": "0815575d-c549-4865-d5d0-c6ebab5ea869"
      },
      "outputs": [
        {
          "data": {
            "text/plain": [
              "(450,)"
            ]
          },
          "execution_count": 121,
          "metadata": {},
          "output_type": "execute_result"
        }
      ],
      "source": [
        "data_test = pd.read_csv('Testing_set.csv')\n",
        "imgPath_test = data_test['filename']\n",
        "paths_test = r'C:\\Users\\manish kumar\\Desktop\\M.tech\\Bootcamp\\DL\\test'+'\\\\'+ imgPath_test\n",
        "paths_test.shape"
      ]
    },
    {
      "cell_type": "code",
      "execution_count": null,
      "id": "0e3e880e",
      "metadata": {
        "id": "0e3e880e"
      },
      "outputs": [],
      "source": [
        "im_size = 35\n",
        "test_image = []\n",
        "for path in paths_test:\n",
        "        img = cv2.imread(path)\n",
        "#         %matplotlib inline\n",
        "        test_image.append(cv2.resize(img,(im_size,im_size)))\n",
        "#         plt.imshow(img)\n",
        "#         plt.title(label)\n",
        "#         plt.show()\n",
        "   "
      ]
    },
    {
      "cell_type": "code",
      "execution_count": null,
      "id": "b32e4246",
      "metadata": {
        "id": "b32e4246"
      },
      "outputs": [],
      "source": [
        "test_image = np.array(test_image)\n",
        "test_image = test_image/255.0\n",
        "test_image.shape"
      ]
    },
    {
      "cell_type": "code",
      "execution_count": null,
      "id": "3e447014",
      "metadata": {
        "id": "3e447014"
      },
      "outputs": [],
      "source": [
        "prediction = model.predict(test_image)\n",
        "len(prediction)"
      ]
    },
    {
      "cell_type": "code",
      "execution_count": null,
      "id": "3224aaef",
      "metadata": {
        "id": "3224aaef"
      },
      "outputs": [],
      "source": [
        "label_predicted = []\n",
        "for i in range(len(prediction)):\n",
        "    ind = np.argmax(prediction[i])\n",
        "    label_predicted.append(labels[ind])\n"
      ]
    },
    {
      "cell_type": "code",
      "execution_count": null,
      "id": "33da50ac",
      "metadata": {
        "id": "33da50ac",
        "outputId": "b5c0baad-3e20-4115-8f8b-e4215ae4297e"
      },
      "outputs": [
        {
          "data": {
            "text/plain": [
              "450"
            ]
          },
          "execution_count": 126,
          "metadata": {},
          "output_type": "execute_result"
        }
      ],
      "source": [
        "len(label_predicted)"
      ]
    },
    {
      "cell_type": "code",
      "execution_count": null,
      "id": "602acc73",
      "metadata": {
        "id": "602acc73"
      },
      "outputs": [],
      "source": [
        "result = pd.DataFrame(label_predicted)\n",
        "result.index = data_test['filename'].index\n",
        "result.columns = ['label']\n",
        "result.to_csv('prediction_result_dl4.csv',index=False)"
      ]
    },
    {
      "cell_type": "code",
      "execution_count": null,
      "id": "56822eda",
      "metadata": {
        "id": "56822eda"
      },
      "outputs": [],
      "source": [
        "INPUT_SHAPE = (224,224, 3)\n",
        "\n",
        "# get the VGG19 model\n",
        "vgg_layers = tf.keras.applications.vgg19.VGG19(weights='imagenet', include_top=False,\n",
        "input_shape=INPUT_SHAPE)\n",
        "\n",
        "vgg_layers.summary()\n"
      ]
    },
    {
      "cell_type": "code",
      "execution_count": null,
      "id": "46aced65",
      "metadata": {
        "id": "46aced65"
      },
      "outputs": [],
      "source": [
        "# Fine-tune all the layers\n",
        "for layer in vgg_layers.layers:\n",
        "    layer.trainable = True\n",
        "\n",
        "# Check the trainable status of the individual layers\n",
        "for layer in vgg_layers.layers:\n",
        "    print(layer, layer.trainable)"
      ]
    },
    {
      "cell_type": "code",
      "execution_count": null,
      "id": "da7e0722",
      "metadata": {
        "id": "da7e0722"
      },
      "outputs": [],
      "source": [
        "# define sequential model\n",
        "model = tf.keras.models.Sequential()\n",
        "# Add the vgg convolutional base model\n",
        "model.add(vgg_layers)\n",
        "\n",
        "# add flatten layer\n",
        "model.add(tf.keras.layers.Flatten())\n",
        "\n",
        "# add dense layers with some dropout\n",
        "model.add(tf.keras.layers.Dense(256, activation='relu'))\n",
        "model.add(tf.keras.layers.Dropout(rate=0.3))\n",
        "model.add(tf.keras.layers.Dense(256, activation='relu'))\n",
        "model.add(tf.keras.layers.Dropout(rate=0.3))\n",
        "\n",
        "# add output layer\n",
        "model.add(tf.keras.layers.Dense(5, activation='softmax'))\n",
        "\n",
        "# compile model\n",
        "model.compile(optimizer=tf.keras.optimizers.Adam(learning_rate=2e-5),\n",
        "loss='categorical_crossentropy',\n",
        "metrics=['accuracy'])\n",
        "\n",
        "# view model layers\n",
        "model.summary()"
      ]
    },
    {
      "cell_type": "code",
      "execution_count": null,
      "id": "46173a52",
      "metadata": {
        "id": "46173a52"
      },
      "outputs": [],
      "source": [
        "EPOCHS = 3\n",
        "es_callback = tf.keras.callbacks.EarlyStopping(monitor='val_loss', patience=2,\n",
        "restore_best_weights=True,\n",
        "verbose=1)\n",
        "\n",
        "history = model.fit(train_image, y,\n",
        "batch_size=100,\n",
        "callbacks=[es_callback],\n",
        "validation_split=0.1, epochs=EPOCHS,\n",
        "verbose=1)"
      ]
    },
    {
      "cell_type": "code",
      "execution_count": null,
      "id": "e657d561",
      "metadata": {
        "id": "e657d561"
      },
      "outputs": [],
      "source": [
        ""
      ]
    }
  ],
  "metadata": {
    "kernelspec": {
      "display_name": "Python 3 (ipykernel)",
      "language": "python",
      "name": "python3"
    },
    "language_info": {
      "codemirror_mode": {
        "name": "ipython",
        "version": 3
      },
      "file_extension": ".py",
      "mimetype": "text/x-python",
      "name": "python",
      "nbconvert_exporter": "python",
      "pygments_lexer": "ipython3",
      "version": "3.9.7"
    },
    "colab": {
      "name": "DL_DATATHON_DPhi.ipynb",
      "provenance": [],
      "collapsed_sections": []
    }
  },
  "nbformat": 4,
  "nbformat_minor": 5
}